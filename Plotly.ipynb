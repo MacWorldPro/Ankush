{
  "nbformat": 4,
  "nbformat_minor": 0,
  "metadata": {
    "colab": {
      "provenance": [],
      "authorship_tag": "ABX9TyN78YMSA2MXva19rVFovm7g",
      "include_colab_link": true
    },
    "kernelspec": {
      "name": "python3",
      "display_name": "Python 3"
    },
    "language_info": {
      "name": "python"
    }
  },
  "cells": [
    {
      "cell_type": "markdown",
      "metadata": {
        "id": "view-in-github",
        "colab_type": "text"
      },
      "source": [
        "<a href=\"https://colab.research.google.com/github/MacWorldPro/Ankush/blob/main/Plotly.ipynb\" target=\"_parent\"><img src=\"https://colab.research.google.com/assets/colab-badge.svg\" alt=\"Open In Colab\"/></a>"
      ]
    },
    {
      "cell_type": "markdown",
      "source": [
        "Q1:"
      ],
      "metadata": {
        "id": "NyHS5gYM4eQn"
      }
    },
    {
      "cell_type": "code",
      "execution_count": 3,
      "metadata": {
        "id": "esLHS3jX2X6G"
      },
      "outputs": [],
      "source": [
        "import seaborn as sns\n",
        "import plotly.express as px"
      ]
    },
    {
      "cell_type": "code",
      "source": [
        "titanic=sns.load_dataset(\"titanic\")\n",
        "titanic.head()"
      ],
      "metadata": {
        "id": "2W0h4yC14gbr"
      },
      "execution_count": null,
      "outputs": []
    },
    {
      "cell_type": "code",
      "source": [
        "fig=px.scatter(x=titanic[\"age\"],y=titanic[\"fare\"])\n",
        "fig.show()"
      ],
      "metadata": {
        "id": "SzaoFN1h4onz"
      },
      "execution_count": null,
      "outputs": []
    },
    {
      "cell_type": "markdown",
      "source": [
        "Q2:"
      ],
      "metadata": {
        "id": "fMBiSsaj5-5_"
      }
    },
    {
      "cell_type": "code",
      "source": [
        "tips=sns.load_dataset(\"tips\")\n",
        "tips.head()"
      ],
      "metadata": {
        "id": "ti10WRZ46GJO"
      },
      "execution_count": null,
      "outputs": []
    },
    {
      "cell_type": "code",
      "source": [
        "fig=px.box(tips,x=\"day\",y=\"total_bill\",points=\"all\")\n",
        "fig.show()"
      ],
      "metadata": {
        "id": "D40jBIuq6ZfZ"
      },
      "execution_count": null,
      "outputs": []
    },
    {
      "cell_type": "markdown",
      "source": [
        "Q3:"
      ],
      "metadata": {
        "id": "IeLSY4_a7tv1"
      }
    },
    {
      "cell_type": "code",
      "source": [
        "fig=px.histogram(tips,x=\"sex\",y=\"total_bill\",color=\"day\",pattern_shape=\"smoker\")\n",
        "fig.show()"
      ],
      "metadata": {
        "id": "2spQlXVS8F0T"
      },
      "execution_count": null,
      "outputs": []
    },
    {
      "cell_type": "markdown",
      "source": [
        "Q4:\n"
      ],
      "metadata": {
        "id": "4ZYF2IcT8rXr"
      }
    },
    {
      "cell_type": "code",
      "source": [
        "iris=sns.load_dataset(\"iris\")"
      ],
      "metadata": {
        "id": "irJ8N2e38sdh"
      },
      "execution_count": 14,
      "outputs": []
    },
    {
      "cell_type": "code",
      "source": [
        "fig = px.scatter_matrix(iris,\n",
        "                        dimensions=[\"sepal_length\", \"sepal_width\", \"petal_length\", \"petal_width\"],\n",
        "                        color=\"species\",\n",
        "                        title=\"Scatter Matrix Plot of Iris Dataset\",\n",
        "                        labels={\"species\": \"Species\"},\n",
        "                        height=800)\n",
        "fig.update_traces(diagonal_visible=False)  # Hide the histograms on the diagonal\n",
        "fig.show()"
      ],
      "metadata": {
        "id": "RgUU9dUN9hik"
      },
      "execution_count": null,
      "outputs": []
    },
    {
      "cell_type": "markdown",
      "source": [
        "Q5:"
      ],
      "metadata": {
        "id": "Wo9r2mCd90LR"
      }
    },
    {
      "cell_type": "code",
      "source": [
        "fig = px.histogram(iris, x=\"sepal_length\", marginal=\"rug\", nbins=30, title=\"Distribution of Sepal Length\")\n",
        "fig.show()"
      ],
      "metadata": {
        "id": "LFIKbocs91rm"
      },
      "execution_count": null,
      "outputs": []
    }
  ]
}