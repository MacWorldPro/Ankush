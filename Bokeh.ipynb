{
  "nbformat": 4,
  "nbformat_minor": 0,
  "metadata": {
    "colab": {
      "provenance": [],
      "authorship_tag": "ABX9TyOUaupJBPE+gvO2Rme5Eg+U",
      "include_colab_link": true
    },
    "kernelspec": {
      "name": "python3",
      "display_name": "Python 3"
    },
    "language_info": {
      "name": "python"
    }
  },
  "cells": [
    {
      "cell_type": "markdown",
      "metadata": {
        "id": "view-in-github",
        "colab_type": "text"
      },
      "source": [
        "<a href=\"https://colab.research.google.com/github/MacWorldPro/Ankush/blob/main/Bokeh.ipynb\" target=\"_parent\"><img src=\"https://colab.research.google.com/assets/colab-badge.svg\" alt=\"Open In Colab\"/></a>"
      ]
    },
    {
      "cell_type": "markdown",
      "source": [
        "Q1:\n"
      ],
      "metadata": {
        "id": "gFBOTjj3WKJb"
      }
    },
    {
      "cell_type": "code",
      "execution_count": 1,
      "metadata": {
        "id": "9l68nt5MV0fG"
      },
      "outputs": [],
      "source": [
        "from bokeh.plotting import figure, output_file, show\n",
        "\n",
        "# Define data\n",
        "x = [1, 2, 3, 4, 5]\n",
        "y = [6, 7, 2, 4, 5]\n",
        "\n",
        "# Create a figure object\n",
        "p = figure(title=\"Simple Scatter Plot\", x_axis_label='X-axis', y_axis_label='Y-axis')\n",
        "\n",
        "# Add glyphs to represent data\n",
        "p.circle(x, y, size=10, color='navy', alpha=0.5)\n",
        "\n",
        "# Save the plot to an HTML file\n",
        "output_file(\"scatter_plot.html\")\n",
        "\n",
        "# Display the plot\n",
        "show(p)\n"
      ]
    },
    {
      "cell_type": "markdown",
      "source": [
        "Q2:\n",
        "\n",
        "\n",
        "In Bokeh, glyphs are visual markers that represent data points on a plot. They can be shapes such as circles, squares, triangles, or lines, and they are added to a plot to visually represent data. Glyphs can be customized with various attributes like size, color, and transparency to convey additional information about the data."
      ],
      "metadata": {
        "id": "JiwNiIWUWVdX"
      }
    },
    {
      "cell_type": "code",
      "source": [
        "from bokeh.plotting import figure, output_file, show\n",
        "\n",
        "# Define data\n",
        "x = [1, 2, 3, 4, 5]\n",
        "y = [6, 7, 2, 4, 5]\n",
        "\n",
        "# Create a figure object\n",
        "p = figure(title=\"Glyph Example\", x_axis_label='X-axis', y_axis_label='Y-axis')\n",
        "\n",
        "# Add circles glyph\n",
        "p.circle(x, y, size=10, color='navy', alpha=0.5, legend_label='Circle')\n",
        "\n",
        "# Add squares glyph\n",
        "p.square(x, y, size=10, color='red', alpha=0.5, legend_label='Square')\n",
        "\n",
        "# Add triangles glyph\n",
        "p.triangle(x, y, size=10, color='green', alpha=0.5, legend_label='Triangle')\n",
        "\n",
        "# Customize plot attributes\n",
        "p.legend.location = 'top_left'\n",
        "\n",
        "# Save the plot to an HTML file\n",
        "output_file(\"glyph_plot.html\")\n",
        "\n",
        "# Display the plot\n",
        "show(p)\n"
      ],
      "metadata": {
        "id": "D9Y-3J0_WWpS"
      },
      "execution_count": 2,
      "outputs": []
    },
    {
      "cell_type": "markdown",
      "source": [
        "Q3:\n"
      ],
      "metadata": {
        "id": "N1eqV0x9W4_k"
      }
    },
    {
      "cell_type": "code",
      "source": [
        "from bokeh.plotting import figure, output_file, show\n",
        "\n",
        "# Define data\n",
        "x = [1, 2, 3, 4, 5]\n",
        "y = [6, 7, 2, 4, 5]\n",
        "\n",
        "# Create a figure object\n",
        "p = figure(title=\"Customizing Bokeh Plot\",\n",
        "           x_axis_label='X-axis',\n",
        "           y_axis_label='Y-axis',\n",
        "           plot_width=600,  # Adjust plot width\n",
        "           plot_height=400,  # Adjust plot height\n",
        "           x_range=(0, 6),  # Set x-axis range\n",
        "           y_range=(0, 8),  # Set y-axis range\n",
        "           tools=\"pan,box_zoom,reset\",  # Enable pan, box zoom, and reset tools\n",
        "           toolbar_location='above')  # Set toolbar location\n",
        "\n",
        "# Add circles glyph\n",
        "p.circle(x, y, size=10, color='navy', alpha=0.5, legend_label='Data')\n",
        "\n",
        "# Customize title properties\n",
        "p.title.text_color = \"navy\"\n",
        "p.title.text_font_size = \"20px\"\n",
        "\n",
        "# Customize axis properties\n",
        "p.xaxis.axis_label_text_color = \"darkgreen\"\n",
        "p.yaxis.axis_label_text_color = \"darkgreen\"\n",
        "p.xaxis.axis_label_text_font_style = \"italic\"\n",
        "p.yaxis.axis_label_text_font_style = \"italic\"\n",
        "\n",
        "# Customize legend properties\n",
        "p.legend.label_text_font_size = \"12px\"\n",
        "p.legend.background_fill_alpha = 0.5\n",
        "\n",
        "# Save the plot to an HTML file\n",
        "output_file(\"customized_plot.html\")\n",
        "\n",
        "# Display the plot\n",
        "show(p)\n"
      ],
      "metadata": {
        "id": "iKr1tJgZXIZZ"
      },
      "execution_count": null,
      "outputs": []
    },
    {
      "cell_type": "markdown",
      "source": [
        "Q4:\n",
        "\n",
        "Bokeh server is a key component of the Bokeh library that allows you to create and deploy interactive web applications and dashboards with Python. With Bokeh server, you can build sophisticated web applications that contain interactive Bokeh plots and widgets, and these applications can be accessed and interacted with by multiple users simultaneously.\n",
        "\n",
        "Here's how Bokeh server works and how you can use it to create interactive plots that can be updated in real time:\n",
        "\n",
        "Server Execution Model: Bokeh server operates using a client-server execution model. When you run a Bokeh server application, a Python process (the server) runs continuously and listens for incoming connections from web browsers (the clients). Each connected client interacts with the server, sending and receiving data to update the displayed content.\n",
        "Interactive Elements: Bokeh server allows you to create interactive elements such as sliders, buttons, dropdowns, and text inputs using Bokeh widgets. These widgets can be linked to Bokeh plots, allowing users to interact with the widgets to dynamically update the plot content.\n",
        "Updating Plots: Bokeh server enables real-time updates to plots based on user interactions or changes in data. When a user interacts with a widget or when new data is received by the server, the server updates the plot and pushes the updated content to all connected clients in real time.\n",
        "Deployment: Bokeh server applications can be deployed on a web server or hosted on platforms such as Heroku, AWS, or Microsoft Azure. Once deployed, users can access the application using a web browser, and multiple users can interact with the application simultaneously."
      ],
      "metadata": {
        "id": "ddbvPa6CXJOT"
      }
    },
    {
      "cell_type": "code",
      "source": [
        "from bokeh.plotting import figure, curdoc\n",
        "\n",
        "from bokeh.models import Slider\n",
        "\n",
        "# Create a figure\n",
        "plot = figure(plot_width=400, plot_height=400)\n",
        "line = plot.line(x=[0, 1, 2, 3], y=[0, 1, 2, 3])\n",
        "\n",
        "# Create a slider widget\n",
        "slider = Slider(start=0.1, end=10, value=1, step=0.1, title=\"Scale Factor\")\n",
        "\n",
        "# Define a callback function to update the plot based on slider value\n",
        "def update(attr, old, new):\n",
        "    line.data_source.data['y'] = [i * slider.value for i in line.data_source.data['x']]\n",
        "\n",
        "# Attach the callback function to the slider's 'value' property\n",
        "slider.on_change('value', update)\n",
        "\n",
        "# Add the plot and slider to the current document\n",
        "curdoc().add_root(plot)\n",
        "curdoc().add_root(slider)\n"
      ],
      "metadata": {
        "id": "RBJ9KW6tYLC5"
      },
      "execution_count": null,
      "outputs": []
    },
    {
      "cell_type": "code",
      "source": [
        "bokeh serve --show app.py\n"
      ],
      "metadata": {
        "id": "BVAux-d3YnjG"
      },
      "execution_count": null,
      "outputs": []
    },
    {
      "cell_type": "markdown",
      "source": [
        "Q5:\n",
        "\n",
        "Using Flask:\n",
        "Install Flask: Use pip to install Flask.\n",
        "Create Flask Application: Define a Flask application and create a route to render an HTML template containing the Bokeh plot.\n",
        "Define Bokeh Plot: Create a separate Python script to define and run the Bokeh server application.\n",
        "HTML Template: Create an HTML template to render the Bokeh plot.\n",
        "Run the Application: Run the Flask application and the Bokeh server, and navigate to the appropriate URL to view the embedded Bokeh plot.\n",
        "Using Django:\n",
        "Create Django Project: Use Django's command-line tool to create a new project and app.\n",
        "Define Bokeh Plot: Define the Bokeh plot in a Python script within your Django app.\n",
        "Create View: Create a Django view to render the Bokeh plot within a template.\n",
        "Define URL Route: Define a URL route in your Django app's urls.py that maps to the view.\n",
        "HTML Template: Create an HTML template to render the Bokeh plot within your Django app's templates directory.\n",
        "Run the Application: Run the Django development server and navigate to the appropriate URL to view the embedded Bokeh plot."
      ],
      "metadata": {
        "id": "PJ4sCHT6ZFgT"
      }
    }
  ]
}