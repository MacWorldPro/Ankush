{
 "cells": [
  {
   "cell_type": "code",
   "execution_count": 1,
   "id": "cb937cfb",
   "metadata": {
    "_cell_guid": "b1076dfc-b9ad-4769-8c92-a6c4dae69d19",
    "_uuid": "8f2839f25d086af736a60e9eeb907d3b93b6e0e5",
    "execution": {
     "iopub.execute_input": "2024-05-26T05:21:02.294340Z",
     "iopub.status.busy": "2024-05-26T05:21:02.293406Z",
     "iopub.status.idle": "2024-05-26T05:21:03.427587Z",
     "shell.execute_reply": "2024-05-26T05:21:03.425771Z"
    },
    "papermill": {
     "duration": 1.147908,
     "end_time": "2024-05-26T05:21:03.430955",
     "exception": false,
     "start_time": "2024-05-26T05:21:02.283047",
     "status": "completed"
    },
    "tags": []
   },
   "outputs": [
    {
     "name": "stdout",
     "output_type": "stream",
     "text": [
      "/kaggle/input/human-activity-recognition-with-smartphones/train.csv\n",
      "/kaggle/input/human-activity-recognition-with-smartphones/test.csv\n"
     ]
    }
   ],
   "source": [
    "# This Python 3 environment comes with many helpful analytics libraries installed\n",
    "# It is defined by the kaggle/python Docker image: https://github.com/kaggle/docker-python\n",
    "# For example, here's several helpful packages to load\n",
    "\n",
    "import numpy as np # linear algebra\n",
    "import pandas as pd # data processing, CSV file I/O (e.g. pd.read_csv)\n",
    "\n",
    "# Input data files are available in the read-only \"../input/\" directory\n",
    "# For example, running this (by clicking run or pressing Shift+Enter) will list all files under the input directory\n",
    "\n",
    "import os\n",
    "for dirname, _, filenames in os.walk('/kaggle/input'):\n",
    "    for filename in filenames:\n",
    "        print(os.path.join(dirname, filename))\n",
    "\n",
    "# You can write up to 20GB to the current directory (/kaggle/working/) that gets preserved as output when you create a version using \"Save & Run All\" \n",
    "# You can also write temporary files to /kaggle/temp/, but they won't be saved outside of the current session"
   ]
  },
  {
   "cell_type": "code",
   "execution_count": 2,
   "id": "4a2a1eaf",
   "metadata": {
    "execution": {
     "iopub.execute_input": "2024-05-26T05:21:03.448507Z",
     "iopub.status.busy": "2024-05-26T05:21:03.447164Z",
     "iopub.status.idle": "2024-05-26T05:21:06.081616Z",
     "shell.execute_reply": "2024-05-26T05:21:06.080092Z"
    },
    "papermill": {
     "duration": 2.646524,
     "end_time": "2024-05-26T05:21:06.085044",
     "exception": false,
     "start_time": "2024-05-26T05:21:03.438520",
     "status": "completed"
    },
    "tags": []
   },
   "outputs": [],
   "source": [
    "df=pd.read_csv('/kaggle/input/human-activity-recognition-with-smartphones/train.csv')\n",
    "dftest=pd.read_csv('/kaggle/input/human-activity-recognition-with-smartphones/test.csv')\n"
   ]
  },
  {
   "cell_type": "code",
   "execution_count": 3,
   "id": "d2828314",
   "metadata": {
    "execution": {
     "iopub.execute_input": "2024-05-26T05:21:06.102900Z",
     "iopub.status.busy": "2024-05-26T05:21:06.101815Z",
     "iopub.status.idle": "2024-05-26T05:21:06.112062Z",
     "shell.execute_reply": "2024-05-26T05:21:06.110403Z"
    },
    "papermill": {
     "duration": 0.021843,
     "end_time": "2024-05-26T05:21:06.114892",
     "exception": false,
     "start_time": "2024-05-26T05:21:06.093049",
     "status": "completed"
    },
    "tags": []
   },
   "outputs": [],
   "source": [
    "df.columns=df.columns.str.strip()\n",
    "dftest.columns=dftest.columns.str.strip()"
   ]
  },
  {
   "cell_type": "code",
   "execution_count": 4,
   "id": "9daef271",
   "metadata": {
    "execution": {
     "iopub.execute_input": "2024-05-26T05:21:06.131914Z",
     "iopub.status.busy": "2024-05-26T05:21:06.131517Z",
     "iopub.status.idle": "2024-05-26T05:21:06.152295Z",
     "shell.execute_reply": "2024-05-26T05:21:06.151019Z"
    },
    "papermill": {
     "duration": 0.03243,
     "end_time": "2024-05-26T05:21:06.155111",
     "exception": false,
     "start_time": "2024-05-26T05:21:06.122681",
     "status": "completed"
    },
    "tags": []
   },
   "outputs": [],
   "source": [
    "# let us map the Activity to numerical\n",
    "assign={\n",
    "    'WALKING':0,\n",
    "    'STANDING':1,\n",
    "    'LAYING':2,\n",
    "    'WALKING_UPSTAIRS':3,\n",
    "    'SITTING':4,\n",
    "    'WALKING_DOWNSTAIRS':5\n",
    "}\n",
    "df['Activity_num']=df['Activity'].map(assign)\n",
    "dftest['Activity_num']=dftest['Activity'].map(assign)"
   ]
  },
  {
   "cell_type": "code",
   "execution_count": 5,
   "id": "c65f3cfb",
   "metadata": {
    "execution": {
     "iopub.execute_input": "2024-05-26T05:21:06.173711Z",
     "iopub.status.busy": "2024-05-26T05:21:06.173204Z",
     "iopub.status.idle": "2024-05-26T05:21:06.227628Z",
     "shell.execute_reply": "2024-05-26T05:21:06.226105Z"
    },
    "papermill": {
     "duration": 0.067624,
     "end_time": "2024-05-26T05:21:06.230799",
     "exception": false,
     "start_time": "2024-05-26T05:21:06.163175",
     "status": "completed"
    },
    "tags": []
   },
   "outputs": [],
   "source": [
    "df.dropna(inplace=True)\n",
    "dftest.dropna(inplace=True)"
   ]
  },
  {
   "cell_type": "code",
   "execution_count": 6,
   "id": "122298ef",
   "metadata": {
    "execution": {
     "iopub.execute_input": "2024-05-26T05:21:06.247334Z",
     "iopub.status.busy": "2024-05-26T05:21:06.246886Z",
     "iopub.status.idle": "2024-05-26T05:21:06.275502Z",
     "shell.execute_reply": "2024-05-26T05:21:06.273637Z"
    },
    "papermill": {
     "duration": 0.041219,
     "end_time": "2024-05-26T05:21:06.279266",
     "exception": false,
     "start_time": "2024-05-26T05:21:06.238047",
     "status": "completed"
    },
    "tags": []
   },
   "outputs": [],
   "source": [
    "df.drop(columns=['Activity'],inplace=True,axis=1)\n",
    "dftest.drop(columns=['Activity'],inplace=True,axis=1)"
   ]
  },
  {
   "cell_type": "code",
   "execution_count": 7,
   "id": "510272f4",
   "metadata": {
    "execution": {
     "iopub.execute_input": "2024-05-26T05:21:06.296530Z",
     "iopub.status.busy": "2024-05-26T05:21:06.296093Z",
     "iopub.status.idle": "2024-05-26T05:21:12.726956Z",
     "shell.execute_reply": "2024-05-26T05:21:12.725401Z"
    },
    "papermill": {
     "duration": 6.443009,
     "end_time": "2024-05-26T05:21:12.729713",
     "exception": false,
     "start_time": "2024-05-26T05:21:06.286704",
     "status": "completed"
    },
    "tags": []
   },
   "outputs": [
    {
     "name": "stdout",
     "output_type": "stream",
     "text": [
      "59\n"
     ]
    }
   ],
   "source": [
    "import pandas as pd\n",
    "import numpy as np\n",
    "\n",
    "# Assume df is already defined and remains consistent across executions\n",
    "\n",
    "# Compute the correlation matrix\n",
    "correlation_matrix = df.corr()\n",
    "\n",
    "# Get the correlations of 'Activity_num' with all other columns\n",
    "activity_corr = correlation_matrix['Activity_num']\n",
    "\n",
    "# Drop the self-correlation\n",
    "activity_corr = activity_corr.drop(labels=['Activity_num'])\n",
    "\n",
    "# Sort the correlations in descending order\n",
    "sorted_activity_corr = activity_corr.sort_values(ascending=False)\n",
    "\n",
    "# Round the correlations to two decimal places\n",
    "rounded_corr = sorted_activity_corr.round(2)\n",
    "\n",
    "# Initialize an empty dictionary to store unique correlations\n",
    "unique_corr = {}\n",
    "unique_values = set()\n",
    "\n",
    "# Iterate over the rounded correlations to keep only unique ones\n",
    "for col, corr_value in rounded_corr.items():\n",
    "    rounded_value = round(corr_value, 2)\n",
    "    if rounded_value not in unique_values:\n",
    "        unique_corr[col] = rounded_value\n",
    "        unique_values.add(rounded_value)\n",
    "\n",
    "# Convert the dictionary back to a Series for better display\n",
    "unique_corr_series = pd.Series(unique_corr)\n",
    "count = unique_corr_series.count()\n",
    "\n",
    "print(count)\n"
   ]
  },
  {
   "cell_type": "code",
   "execution_count": 8,
   "id": "9eb64283",
   "metadata": {
    "execution": {
     "iopub.execute_input": "2024-05-26T05:21:12.748085Z",
     "iopub.status.busy": "2024-05-26T05:21:12.747637Z",
     "iopub.status.idle": "2024-05-26T05:21:12.755212Z",
     "shell.execute_reply": "2024-05-26T05:21:12.754012Z"
    },
    "papermill": {
     "duration": 0.021212,
     "end_time": "2024-05-26T05:21:12.758612",
     "exception": false,
     "start_time": "2024-05-26T05:21:12.737400",
     "status": "completed"
    },
    "tags": []
   },
   "outputs": [],
   "source": [
    "unique_columns = list(unique_corr.keys())\n",
    "X_train=df[unique_columns]"
   ]
  },
  {
   "cell_type": "code",
   "execution_count": 9,
   "id": "6e12f7da",
   "metadata": {
    "execution": {
     "iopub.execute_input": "2024-05-26T05:21:12.776466Z",
     "iopub.status.busy": "2024-05-26T05:21:12.776035Z",
     "iopub.status.idle": "2024-05-26T05:21:12.783353Z",
     "shell.execute_reply": "2024-05-26T05:21:12.781952Z"
    },
    "papermill": {
     "duration": 0.019693,
     "end_time": "2024-05-26T05:21:12.785850",
     "exception": false,
     "start_time": "2024-05-26T05:21:12.766157",
     "status": "completed"
    },
    "tags": []
   },
   "outputs": [],
   "source": [
    "X_test=dftest[unique_columns]"
   ]
  },
  {
   "cell_type": "code",
   "execution_count": 10,
   "id": "96ea68e0",
   "metadata": {
    "execution": {
     "iopub.execute_input": "2024-05-26T05:21:12.802308Z",
     "iopub.status.busy": "2024-05-26T05:21:12.801861Z",
     "iopub.status.idle": "2024-05-26T05:21:12.808392Z",
     "shell.execute_reply": "2024-05-26T05:21:12.807095Z"
    },
    "papermill": {
     "duration": 0.017813,
     "end_time": "2024-05-26T05:21:12.810694",
     "exception": false,
     "start_time": "2024-05-26T05:21:12.792881",
     "status": "completed"
    },
    "tags": []
   },
   "outputs": [],
   "source": [
    "y_train=df['Activity_num']\n",
    "y_test=dftest['Activity_num']"
   ]
  },
  {
   "cell_type": "code",
   "execution_count": 11,
   "id": "01d302a6",
   "metadata": {
    "execution": {
     "iopub.execute_input": "2024-05-26T05:21:12.829079Z",
     "iopub.status.busy": "2024-05-26T05:21:12.828640Z",
     "iopub.status.idle": "2024-05-26T05:21:14.975937Z",
     "shell.execute_reply": "2024-05-26T05:21:14.974619Z"
    },
    "papermill": {
     "duration": 2.160044,
     "end_time": "2024-05-26T05:21:14.979416",
     "exception": false,
     "start_time": "2024-05-26T05:21:12.819372",
     "status": "completed"
    },
    "tags": []
   },
   "outputs": [],
   "source": [
    "# prompt: want to import Logisitc regression,decision tree classifier,svc,random forest classifier,adaboost,gradient boost,xgboost classifier , accuracy score\n",
    "\n",
    "from sklearn.linear_model import LogisticRegression\n",
    "from sklearn.tree import DecisionTreeClassifier\n",
    "from sklearn.svm import SVC\n",
    "from sklearn.ensemble import RandomForestClassifier, AdaBoostClassifier, GradientBoostingClassifier\n",
    "from xgboost import XGBClassifier\n",
    "from sklearn.metrics import accuracy_score\n"
   ]
  },
  {
   "cell_type": "code",
   "execution_count": 12,
   "id": "8b948ec7",
   "metadata": {
    "execution": {
     "iopub.execute_input": "2024-05-26T05:21:14.996894Z",
     "iopub.status.busy": "2024-05-26T05:21:14.996099Z",
     "iopub.status.idle": "2024-05-26T05:21:17.982683Z",
     "shell.execute_reply": "2024-05-26T05:21:17.980414Z"
    },
    "papermill": {
     "duration": 2.998959,
     "end_time": "2024-05-26T05:21:17.985810",
     "exception": false,
     "start_time": "2024-05-26T05:21:14.986851",
     "status": "completed"
    },
    "tags": []
   },
   "outputs": [
    {
     "data": {
      "text/plain": [
       "0.9311163895486936"
      ]
     },
     "execution_count": 12,
     "metadata": {},
     "output_type": "execute_result"
    }
   ],
   "source": [
    "# let us apply XGBClassifier\n",
    "xgbc=XGBClassifier()\n",
    "xgbc.fit(X_train,y_train)\n",
    "y_pred7=xgbc.predict(X_test)\n",
    "accuracy_score(y_pred7,y_test)"
   ]
  },
  {
   "cell_type": "code",
   "execution_count": 13,
   "id": "5af9d349",
   "metadata": {
    "execution": {
     "iopub.execute_input": "2024-05-26T05:21:18.006720Z",
     "iopub.status.busy": "2024-05-26T05:21:18.006244Z",
     "iopub.status.idle": "2024-05-26T05:21:18.012447Z",
     "shell.execute_reply": "2024-05-26T05:21:18.011115Z"
    },
    "papermill": {
     "duration": 0.018979,
     "end_time": "2024-05-26T05:21:18.015175",
     "exception": false,
     "start_time": "2024-05-26T05:21:17.996196",
     "status": "completed"
    },
    "tags": []
   },
   "outputs": [],
   "source": [
    "# got maximum accuracy in xbbclassifer let us now hyper tune the parameter and again see the accuracy\n",
    "from sklearn.model_selection import  GridSearchCV"
   ]
  },
  {
   "cell_type": "markdown",
   "id": "468fb4ab",
   "metadata": {
    "papermill": {
     "duration": 0.007153,
     "end_time": "2024-05-26T05:21:18.029806",
     "exception": false,
     "start_time": "2024-05-26T05:21:18.022653",
     "status": "completed"
    },
    "tags": []
   },
   "source": [
    "# **Using RandomizedSearchCV for hypertuning the parameters**"
   ]
  },
  {
   "cell_type": "code",
   "execution_count": 14,
   "id": "efe98095",
   "metadata": {
    "execution": {
     "iopub.execute_input": "2024-05-26T05:21:18.046626Z",
     "iopub.status.busy": "2024-05-26T05:21:18.046177Z",
     "iopub.status.idle": "2024-05-26T05:21:18.053238Z",
     "shell.execute_reply": "2024-05-26T05:21:18.051901Z"
    },
    "papermill": {
     "duration": 0.018959,
     "end_time": "2024-05-26T05:21:18.056343",
     "exception": false,
     "start_time": "2024-05-26T05:21:18.037384",
     "status": "completed"
    },
    "tags": []
   },
   "outputs": [],
   "source": [
    "# import pandas as pd\n",
    "# import numpy as np\n",
    "# from sklearn.model_selection import RandomizedSearchCV\n",
    "# from xgboost import XGBClassifier\n",
    "# from sklearn.metrics import accuracy_score\n",
    "\n",
    "# # Example parameter grid with reduced size\n",
    "# param_grid = {\n",
    "#     'n_estimators': [100, 300, 500, 1000],\n",
    "#     'learning_rate': [0.01, 0.1, 0.3],\n",
    "#     'max_depth': [3, 5, 7],\n",
    "#     'subsample': [0.8, 1.0],\n",
    "#     'colsample_bytree': [0.8, 1.0],\n",
    "#     'gamma': [0, 0.1, 0.3]\n",
    "# }\n",
    "\n",
    "# xgbc = XGBClassifier(use_label_encoder=False, eval_metric='mlogloss')\n",
    "# random_search = RandomizedSearchCV(estimator=xgbc, param_distributions=param_grid, n_iter=50, cv=3, scoring='accuracy', verbose=1, n_jobs=-1, random_state=42)\n",
    "\n",
    "# # Assuming X_train and y_train are your training data\n",
    "# random_search.fit(X_train, y_train)\n",
    "\n",
    "# # Predict on the test set\n",
    "# y_pred = random_search.predict(X_test)\n",
    "\n",
    "# # Calculate accuracy\n",
    "# accuracy = accuracy_score(y_test, y_pred)\n",
    "# print(f\"Accuracy: {accuracy:.4f}\")\n",
    "\n",
    "# # Print the best parameters\n",
    "# best_params = random_search.best_params_\n",
    "# print(\"Best parameters found: \", best_params)\n"
   ]
  },
  {
   "cell_type": "code",
   "execution_count": 15,
   "id": "5f69959a",
   "metadata": {
    "execution": {
     "iopub.execute_input": "2024-05-26T05:21:18.075189Z",
     "iopub.status.busy": "2024-05-26T05:21:18.074438Z",
     "iopub.status.idle": "2024-05-26T05:21:25.447847Z",
     "shell.execute_reply": "2024-05-26T05:21:25.446585Z"
    },
    "papermill": {
     "duration": 7.385644,
     "end_time": "2024-05-26T05:21:25.450790",
     "exception": false,
     "start_time": "2024-05-26T05:21:18.065146",
     "status": "completed"
    },
    "tags": []
   },
   "outputs": [
    {
     "data": {
      "text/plain": [
       "0.9362063115032236"
      ]
     },
     "execution_count": 15,
     "metadata": {},
     "output_type": "execute_result"
    }
   ],
   "source": [
    "xgbc_beta = XGBClassifier(subsample= 0.8, n_estimators= 300, max_depth=5, learning_rate= 0.1, gamma= 0, colsample_bytree= 1.0,use_label_encoder=False, eval_metric='mlogloss')\n",
    "xgbc_beta.fit(X_train, y_train)\n",
    "y_predb = xgbc_beta.predict(X_test)\n",
    "accuracy = accuracy_score(y_test, y_predb)\n",
    "accuracy"
   ]
  },
  {
   "cell_type": "markdown",
   "id": "436926b2",
   "metadata": {
    "papermill": {
     "duration": 0.007328,
     "end_time": "2024-05-26T05:21:25.466574",
     "exception": false,
     "start_time": "2024-05-26T05:21:25.459246",
     "status": "completed"
    },
    "tags": []
   },
   "source": [
    "#  Getting almost 94% accuracy"
   ]
  },
  {
   "cell_type": "code",
   "execution_count": 16,
   "id": "b07f1576",
   "metadata": {
    "execution": {
     "iopub.execute_input": "2024-05-26T05:21:25.485423Z",
     "iopub.status.busy": "2024-05-26T05:21:25.484036Z",
     "iopub.status.idle": "2024-05-26T05:21:25.520228Z",
     "shell.execute_reply": "2024-05-26T05:21:25.519035Z"
    },
    "papermill": {
     "duration": 0.048807,
     "end_time": "2024-05-26T05:21:25.523059",
     "exception": false,
     "start_time": "2024-05-26T05:21:25.474252",
     "status": "completed"
    },
    "tags": []
   },
   "outputs": [],
   "source": [
    "# let us create a pickel file and save it\n",
    "import pickle\n",
    "with open('xgbc_model_beta.pkl', 'wb') as file:\n",
    "    pickle.dump(xgbc_beta, file)"
   ]
  },
  {
   "cell_type": "code",
   "execution_count": null,
   "id": "8164fd47",
   "metadata": {
    "papermill": {
     "duration": 0.007178,
     "end_time": "2024-05-26T05:21:25.537934",
     "exception": false,
     "start_time": "2024-05-26T05:21:25.530756",
     "status": "completed"
    },
    "tags": []
   },
   "outputs": [],
   "source": []
  }
 ],
 "metadata": {
  "kaggle": {
   "accelerator": "none",
   "dataSources": [
    {
     "datasetId": 226,
     "sourceId": 793070,
     "sourceType": "datasetVersion"
    }
   ],
   "dockerImageVersionId": 30698,
   "isGpuEnabled": false,
   "isInternetEnabled": true,
   "language": "python",
   "sourceType": "notebook"
  },
  "kernelspec": {
   "display_name": "Python 3",
   "language": "python",
   "name": "python3"
  },
  "language_info": {
   "codemirror_mode": {
    "name": "ipython",
    "version": 3
   },
   "file_extension": ".py",
   "mimetype": "text/x-python",
   "name": "python",
   "nbconvert_exporter": "python",
   "pygments_lexer": "ipython3",
   "version": "3.10.13"
  },
  "papermill": {
   "default_parameters": {},
   "duration": 27.766497,
   "end_time": "2024-05-26T05:21:26.469472",
   "environment_variables": {},
   "exception": null,
   "input_path": "__notebook__.ipynb",
   "output_path": "__notebook__.ipynb",
   "parameters": {},
   "start_time": "2024-05-26T05:20:58.702975",
   "version": "2.5.0"
  }
 },
 "nbformat": 4,
 "nbformat_minor": 5
}
